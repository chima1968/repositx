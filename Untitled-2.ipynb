{
 "cells": [
  {
   "cell_type": "code",
   "execution_count": 8,
   "metadata": {},
   "outputs": [
    {
     "name": "stdout",
     "output_type": "stream",
     "text": [
      "0\n"
     ]
    }
   ],
   "source": [
    "\n",
    "st=input(\"\")\n",
    "roman={'I':1,'V':5,'X':10,'L':50,'C':100,'D':500,'M':1000}\n",
    "def romtonum(str):\n",
    "\n",
    "  sum=0\n",
    "  n=len(str)\n",
    "  i=0\n",
    "  while i<n:\n",
    "     if (i!=n-1 and roman[str[i]]<roman[str[i+1]]):\n",
    "       sum+=roman[str[i+1]]-roman[str[i]]\n",
    "       i=i+2\n",
    "       continue\n",
    "     else:\n",
    "        sum+=roman[str[i]]\n",
    "        i+=1\n",
    "  print(sum) \n",
    "\n",
    "romtonum(st)"
   ]
  },
  {
   "cell_type": "code",
   "execution_count": 9,
   "metadata": {},
   "outputs": [
    {
     "ename": "FileNotFoundError",
     "evalue": "[Errno 2] No such file or directory: 'romeo.txt'",
     "output_type": "error",
     "traceback": [
      "\u001b[1;31m---------------------------------------------------------------------------\u001b[0m",
      "\u001b[1;31mFileNotFoundError\u001b[0m                         Traceback (most recent call last)",
      "\u001b[1;32mc:\\Users\\HALDEN PC\\Documents\\Untitled-2.ipynb Cell 2\u001b[0m in \u001b[0;36m<cell line: 1>\u001b[1;34m()\u001b[0m\n\u001b[1;32m----> <a href='vscode-notebook-cell:/c%3A/Users/HALDEN%20PC/Documents/Untitled-2.ipynb#ch0000001?line=0'>1</a>\u001b[0m fhand\u001b[39m=\u001b[39m\u001b[39mopen\u001b[39;49m(\u001b[39m'\u001b[39;49m\u001b[39mromeo.txt\u001b[39;49m\u001b[39m'\u001b[39;49m)\n\u001b[0;32m      <a href='vscode-notebook-cell:/c%3A/Users/HALDEN%20PC/Documents/Untitled-2.ipynb#ch0000001?line=1'>2</a>\u001b[0m counts\u001b[39m=\u001b[39m\u001b[39mdict\u001b[39m()\n\u001b[0;32m      <a href='vscode-notebook-cell:/c%3A/Users/HALDEN%20PC/Documents/Untitled-2.ipynb#ch0000001?line=3'>4</a>\u001b[0m \u001b[39mfor\u001b[39;00m line \u001b[39min\u001b[39;00m fhand:\n",
      "\u001b[1;31mFileNotFoundError\u001b[0m: [Errno 2] No such file or directory: 'romeo.txt'"
     ]
    }
   ],
   "source": [
    "fhand=open('romeo.txt')\n",
    "counts=dict()\n",
    "\n",
    "for line in fhand:\n",
    "    words=line.split()\n",
    "    for word in words:\n",
    "        counts[word]=counts.get(word,0)+1\n",
    "lst=list()\n",
    "for key,val in counts.items():\n",
    "    newtup=(val,key)\n",
    "    lst.append(newtup)\n",
    "lst=sorted(lst,reverse=True)\n",
    "\n",
    "for val,key in lst[:10]:\n",
    "    print(key,val)"
   ]
  },
  {
   "cell_type": "markdown",
   "metadata": {},
   "source": []
  },
  {
   "cell_type": "code",
   "execution_count": null,
   "metadata": {},
   "outputs": [
    {
     "name": "stdout",
     "output_type": "stream",
     "text": [
      "None\n"
     ]
    }
   ],
   "source": [
    "lst=[2,3,4,5,6,7,9]\n",
    "data=lst.sort(reverse=True)\n",
    "\n",
    "print(data)"
   ]
  },
  {
   "cell_type": "code",
   "execution_count": null,
   "metadata": {},
   "outputs": [
    {
     "name": "stdout",
     "output_type": "stream",
     "text": [
      "False\n"
     ]
    }
   ],
   "source": [
    "count=0\n",
    "fname=input(\"enter a file name:\")\n",
    "fhand=open(fname)\n",
    "list1=list()\n",
    "dict1=dict()\n",
    "for line in fhand:\n",
    "    if line.startswith('From'):\n",
    "        if line.startswith('From:'):\n",
    "           continue\n",
    "        else:\n",
    "            count=count+1\n",
    "            words=line.split()\n",
    "            str1=''.join(words[5])\n",
    "            list1.append(str1[0:2])\n",
    "for word in list1:\n",
    "    dict1[word]=dict1.get(word,0)+1\n",
    "for i,y in sorted(dict1.items()):\n",
    "    print(i,y)"
   ]
  },
  {
   "cell_type": "code",
   "execution_count": null,
   "metadata": {},
   "outputs": [
    {
     "name": "stdout",
     "output_type": "stream",
     "text": [
      "[2, 3, 4, 1]\n"
     ]
    }
   ],
   "source": [
    "arr_count = int(input().strip())\n",
    "\n",
    "arr = list(map(int, input().rstrip().split()))\n",
    "\n",
    "print(arr[::-1])\n",
    "\n"
   ]
  },
  {
   "cell_type": "code",
   "execution_count": null,
   "metadata": {},
   "outputs": [
    {
     "name": "stdout",
     "output_type": "stream",
     "text": [
      "['dog', 'dir', 'cve']\n",
      "di\n"
     ]
    }
   ],
   "source": [
    "def longest_com_pref(lst):\n",
    "\n",
    "     print(lst)\n",
    "     lst2=[]\n",
    "     lst3=[]\n",
    "\n",
    "\n",
    "     for i in range(len(lst)):\n",
    "         for j in range(i+1,len(lst)):\n",
    "                if lst[i][0:2]==lst[j][0:2] or lst[i][0:1]==lst[j][0:1] :\n",
    "                        lst2.append(lst[j][0:2])\n",
    "                        \n",
    "     if lst2!=[]:\n",
    "        print(lst2[0])\n",
    "     else:\n",
    "          print(\" \")\n",
    "\n",
    "lst=[\"dog\",\"dir\",\"cve\"]\n",
    "\n",
    "longest_com_pref(lst)\n"
   ]
  },
  {
   "cell_type": "code",
   "execution_count": null,
   "metadata": {},
   "outputs": [
    {
     "name": "stdout",
     "output_type": "stream",
     "text": [
      "[[-2, 0, 2]]\n",
      "[[-2, 0, 2], [-2, 1, 1]]\n"
     ]
    }
   ],
   "source": [
    "\n",
    "nums=[-2,0,1,1,2]\n",
    "sum=0\n",
    "\n",
    "lst2=list()\n",
    "\n",
    "        \n",
    "for i in range(len(nums)):\n",
    "        for j in range(i+1,len(nums)):\n",
    "           for k in range(j+1,len(nums)):\n",
    "            \n",
    "               if nums[i]+nums[j]+nums[k]==sum:\n",
    "                        lst=list()\n",
    "                        lst.append(nums[i])\n",
    "                        lst.append(nums[j])\n",
    "                        lst.append(nums[k])\n",
    "                        lst2.append(lst)\n",
    "if len(lst2)>3:\n",
    "    lst3=lst2[0:1]\n",
    "    \n",
    "elif len(lst2)==3:\n",
    "    lst3=lst2[0:2]\n",
    "elif len(lst2)==2:\n",
    "    lst3=lst2[0:1]\n",
    "else:\n",
    "    lst3=lst2\n",
    "\n",
    "\n",
    "print(lst3)\n",
    "print(lst2)\n",
    "\n",
    "                       "
   ]
  },
  {
   "cell_type": "code",
   "execution_count": null,
   "metadata": {},
   "outputs": [
    {
     "name": "stdout",
     "output_type": "stream",
     "text": [
      "[[-2, 0, 2], [-2, 1, 1]]\n"
     ]
    }
   ],
   "source": [
    "res=[]\n",
    "nums.sort()\n",
    "\n",
    "for i,a in enumerate(nums):\n",
    "    if i>0 and a==nums[i-1]:continue\n",
    "    l,r=i+1,len(nums)-1\n",
    "    while l<r:\n",
    "        threesum=a+nums[l]+nums[r]\n",
    "\n",
    "        if threesum>0:\n",
    "            r-=1\n",
    "        elif threesum<0:\n",
    "            l+=1\n",
    "        else:\n",
    "            res.append([a,nums[l],nums[r]])\n",
    "            l+=1\n",
    "            while nums[l]==nums[l-1] and l<r:\n",
    "                l+=1\n",
    "print(res)\n",
    "\n"
   ]
  },
  {
   "cell_type": "code",
   "execution_count": null,
   "metadata": {},
   "outputs": [
    {
     "data": {
      "text/plain": [
       "15"
      ]
     },
     "execution_count": 133,
     "metadata": {},
     "output_type": "execute_result"
    }
   ],
   "source": [
    "def recursive(n):\n",
    "    if n==1:\n",
    "        return 1\n",
    "    return recursive(n-1)+n\n",
    "\n",
    "recursive(5)"
   ]
  },
  {
   "cell_type": "code",
   "execution_count": null,
   "metadata": {},
   "outputs": [
    {
     "data": {
      "text/plain": [
       "[[], [1], [1, 2], [2], [1, 2, 3], [2, 3], [3]]"
      ]
     },
     "execution_count": 143,
     "metadata": {},
     "output_type": "execute_result"
    }
   ],
   "source": [
    "class subset:\n",
    "    def sublist(self,list1):\n",
    "        list2=[[]]\n",
    "        for i in range(len(list1)+1):\n",
    "            for j in range(i):\n",
    "                list2.append(list1[j:i])\n",
    "        return list2\n",
    "l2=[1,2,3]\n",
    "l1=subset()\n",
    "l1.sublist(l2)\n"
   ]
  },
  {
   "cell_type": "code",
   "execution_count": null,
   "metadata": {},
   "outputs": [
    {
     "name": "stdout",
     "output_type": "stream",
     "text": [
      "[[], [1], [1, 2], [1, 2, 3], [2], [2, 3], [3]]\n"
     ]
    }
   ],
   "source": [
    "l=[1,2,3]\n",
    "list2=[[]]\n",
    "for i in range(len(l)):\n",
    "    for j in range(i+1,len(l)+1):\n",
    "        list2.append(l[i:j])\n",
    "print(list2)\n"
   ]
  },
  {
   "cell_type": "code",
   "execution_count": null,
   "metadata": {},
   "outputs": [],
   "source": [
    "import sys\n",
    "v=sys.version\n",
    "\n",
    "if \"2.7\" in v:\n",
    "    from _tkinter import *\n",
    "elif \"3.10.5\" in v or \"3.4\" in v:\n",
    "    from tkinter import *\n",
    "    import tkinter.filedialog\n",
    "    root=Tk(\"Text Editor\")\n",
    "\n",
    "    text=Text(root)\n",
    "    text.grid()\n",
    "    def saveas():\n",
    "        global text\n",
    "\n",
    "        t=text.get('1.0','end-lc')\n",
    "        savelocation=tkinter.filedialog.asksaveasfilename()\n",
    "        file1=open(savelocation,'w+')\n",
    "        file1.write(t)\n",
    "        file1.close()\n",
    "    button=Button(root,text='save',command=saveas)\n",
    "    button.grid()\n",
    "    def FontHelvetica():\n",
    "\n",
    "         global text\n",
    "\n",
    "    text.config(font=\"Helvetica\")\n",
    "    def FontCourier():\n",
    "\n",
    "        global text\n",
    "\n",
    "    text.config(font=\"Courier\")\n",
    "font=Menubutton(root, text=\"Font\") \n",
    "font.grid() \n",
    "font.menu=Menu(font, tearoff=0) \n",
    "font[\"menu\"]=font.menu\n",
    "Helvetica=IntVar() \n",
    "arial=IntVar() \n",
    "times=IntVar() \n",
    "Courier=IntVar()\n",
    "font.menu.add_checkbutton(label=\"Courier\", variable=Courier, \n",
    "command=FontCourier)\n",
    "font.menu.add_checkbutton(label=\"Helvetica\", variable=Helvetica,command=FontHelvetica)\n",
    "root.mainloop()\n"
   ]
  },
  {
   "cell_type": "code",
   "execution_count": null,
   "metadata": {},
   "outputs": [
    {
     "name": "stdout",
     "output_type": "stream",
     "text": [
      "120.00\n"
     ]
    }
   ],
   "source": [
    "\n",
    "\n",
    "n,acc_bal=map(float,input('').split())\n",
    "if n%5==0 and n<acc_bal:\n",
    "   result=acc_bal-n-0.5\n",
    "   print(\"{:.2f}\".format(result))\n",
    "else:\n",
    "   print(\"{:.2f}\".format(acc_bal))\n",
    "\n",
    "\n",
    "\n"
   ]
  },
  {
   "cell_type": "code",
   "execution_count": null,
   "metadata": {},
   "outputs": [
    {
     "name": "stdout",
     "output_type": "stream",
     "text": [
      "1\n",
      "2\n"
     ]
    }
   ],
   "source": [
    "def isPowerOfTwo (x):\n",
    " \n",
    "    # First x in the below expression\n",
    "    # is for the case when x is 0\n",
    "    return (x and (not(x & (x - 1))) )\n",
    " \n",
    "# Driver code\n",
    "for t in range(int(input())):\n",
    "    s=int(input())\n",
    "    if isPowerOfTwo(s):\n",
    "        print(0)\n",
    "    else:\n",
    "        count=0\n",
    "        while isPowerOfTwo(s)==False:\n",
    "            count+=1\n",
    "            s-=1\n",
    "        print(count)\n",
    "     \n",
    "\n",
    "\n"
   ]
  },
  {
   "cell_type": "code",
   "execution_count": 12,
   "metadata": {},
   "outputs": [
    {
     "name": "stderr",
     "output_type": "stream",
     "text": [
      "10.34s - Error inserting pydevd breaks.\n",
      "Traceback (most recent call last):\n",
      "  File \"c:\\Users\\HALDEN PC\\AppData\\Local\\Programs\\Python\\Python310\\lib\\site-packages\\debugpy\\_vendored\\pydevd\\_pydevd_frame_eval\\pydevd_modify_bytecode.py\", line 328, in insert_pydevd_breaks\n",
      "    for new_instruction in get_instructions_to_add(\n",
      "  File \"c:\\Users\\HALDEN PC\\AppData\\Local\\Programs\\Python\\Python310\\lib\\site-packages\\debugpy\\_vendored\\pydevd\\_pydevd_frame_eval\\pydevd_modify_bytecode.py\", line 102, in get_instructions_to_add\n",
      "    Instr(\"LOAD_CONST\", _pydev_stop_at_break, lineno=stop_at_line - 1),\n",
      "  File \"c:\\Users\\HALDEN PC\\AppData\\Local\\Programs\\Python\\Python310\\lib\\site-packages\\debugpy\\_vendored\\pydevd\\_pydevd_frame_eval\\vendored\\bytecode\\instr.py\", line 171, in __init__\n",
      "    self._set(name, arg, lineno)\n",
      "  File \"c:\\Users\\HALDEN PC\\AppData\\Local\\Programs\\Python\\Python310\\lib\\site-packages\\debugpy\\_vendored\\pydevd\\_pydevd_frame_eval\\vendored\\bytecode\\instr.py\", line 239, in _set\n",
      "    _check_lineno(lineno)\n",
      "  File \"c:\\Users\\HALDEN PC\\AppData\\Local\\Programs\\Python\\Python310\\lib\\site-packages\\debugpy\\_vendored\\pydevd\\_pydevd_frame_eval\\vendored\\bytecode\\instr.py\", line 74, in _check_lineno\n",
      "    raise ValueError(\"invalid lineno\")\n",
      "ValueError: invalid lineno\n"
     ]
    },
    {
     "name": "stdout",
     "output_type": "stream",
     "text": [
      "element is present at index 3\n"
     ]
    }
   ],
   "source": [
    "def binary_search(arr,low,high,x):\n",
    "    if high>=low:\n",
    "        mid=(high+low)//2\n",
    "\n",
    "        if arr[mid]==x:\n",
    "            return mid\n",
    "            #if element is smaller than mid, then it can only\n",
    "            #be present in left subarray\n",
    "        elif arr[mid]>x:\n",
    "            return binary_search(arr,low,mid-1,x)\n",
    "        #else the element can only be present in right subarray\n",
    "\n",
    "        else:\n",
    "            #element is not present in the array\n",
    "            return binary_search(arr,mid+1,high,x)\n",
    "    else:\n",
    "        return -1\n",
    "\n",
    "#test array\n",
    "\n",
    "arr=[2,3,4,10,40]\n",
    "x=10\n",
    "\n",
    "result=binary_search(arr,0,len(arr)-1,x)\n",
    "\n",
    "if result!=1:\n",
    "    print(\"element is present at index\",str(result))\n",
    "else:\n",
    "    print(\"element is not present in array\")\n",
    "\n",
    "\n",
    "\n"
   ]
  },
  {
   "cell_type": "code",
   "execution_count": 4,
   "metadata": {},
   "outputs": [
    {
     "name": "stderr",
     "output_type": "stream",
     "text": [
      "615.93s - Error inserting pydevd breaks.\n",
      "Traceback (most recent call last):\n",
      "  File \"c:\\Users\\HALDEN PC\\AppData\\Local\\Programs\\Python\\Python310\\lib\\site-packages\\debugpy\\_vendored\\pydevd\\_pydevd_frame_eval\\pydevd_modify_bytecode.py\", line 328, in insert_pydevd_breaks\n",
      "    for new_instruction in get_instructions_to_add(\n",
      "  File \"c:\\Users\\HALDEN PC\\AppData\\Local\\Programs\\Python\\Python310\\lib\\site-packages\\debugpy\\_vendored\\pydevd\\_pydevd_frame_eval\\pydevd_modify_bytecode.py\", line 102, in get_instructions_to_add\n",
      "    Instr(\"LOAD_CONST\", _pydev_stop_at_break, lineno=stop_at_line - 1),\n",
      "  File \"c:\\Users\\HALDEN PC\\AppData\\Local\\Programs\\Python\\Python310\\lib\\site-packages\\debugpy\\_vendored\\pydevd\\_pydevd_frame_eval\\vendored\\bytecode\\instr.py\", line 171, in __init__\n",
      "    self._set(name, arg, lineno)\n",
      "  File \"c:\\Users\\HALDEN PC\\AppData\\Local\\Programs\\Python\\Python310\\lib\\site-packages\\debugpy\\_vendored\\pydevd\\_pydevd_frame_eval\\vendored\\bytecode\\instr.py\", line 239, in _set\n",
      "    _check_lineno(lineno)\n",
      "  File \"c:\\Users\\HALDEN PC\\AppData\\Local\\Programs\\Python\\Python310\\lib\\site-packages\\debugpy\\_vendored\\pydevd\\_pydevd_frame_eval\\vendored\\bytecode\\instr.py\", line 74, in _check_lineno\n",
      "    raise ValueError(\"invalid lineno\")\n",
      "ValueError: invalid lineno\n"
     ]
    },
    {
     "name": "stdout",
     "output_type": "stream",
     "text": [
      "this is the index of the element 6\n"
     ]
    }
   ],
   "source": [
    "def binary_search(arr,low,high,x):\n",
    "    if high>low:\n",
    "        mid=(high+low)//2\n",
    "\n",
    "        if arr[mid]==x:\n",
    "            return mid\n",
    "        elif  arr[mid]<x:\n",
    "            return binary_search(arr,mid-1,high,x)\n",
    "        else:\n",
    "            return binary_search(arr,mid+1,high,x)\n",
    "    else:\n",
    "        return -1\n",
    "\n",
    "arr=[10,20,30,4,23,66,433,665,33]\n",
    "x=433\n",
    "\n",
    "result=binary_search(arr,0,len(arr)-1,x)\n",
    "\n",
    "if result!=1:\n",
    "    print(\"this is the index of the element\",str(result))\n"
   ]
  },
  {
   "cell_type": "code",
   "execution_count": 11,
   "metadata": {},
   "outputs": [
    {
     "name": "stderr",
     "output_type": "stream",
     "text": [
      "70032.73s - Error inserting pydevd breaks.\n",
      "Traceback (most recent call last):\n",
      "  File \"c:\\Users\\HALDEN PC\\AppData\\Local\\Programs\\Python\\Python310\\lib\\site-packages\\debugpy\\_vendored\\pydevd\\_pydevd_frame_eval\\pydevd_modify_bytecode.py\", line 328, in insert_pydevd_breaks\n",
      "    for new_instruction in get_instructions_to_add(\n",
      "  File \"c:\\Users\\HALDEN PC\\AppData\\Local\\Programs\\Python\\Python310\\lib\\site-packages\\debugpy\\_vendored\\pydevd\\_pydevd_frame_eval\\pydevd_modify_bytecode.py\", line 102, in get_instructions_to_add\n",
      "    Instr(\"LOAD_CONST\", _pydev_stop_at_break, lineno=stop_at_line - 1),\n",
      "  File \"c:\\Users\\HALDEN PC\\AppData\\Local\\Programs\\Python\\Python310\\lib\\site-packages\\debugpy\\_vendored\\pydevd\\_pydevd_frame_eval\\vendored\\bytecode\\instr.py\", line 171, in __init__\n",
      "    self._set(name, arg, lineno)\n",
      "  File \"c:\\Users\\HALDEN PC\\AppData\\Local\\Programs\\Python\\Python310\\lib\\site-packages\\debugpy\\_vendored\\pydevd\\_pydevd_frame_eval\\vendored\\bytecode\\instr.py\", line 239, in _set\n",
      "    _check_lineno(lineno)\n",
      "  File \"c:\\Users\\HALDEN PC\\AppData\\Local\\Programs\\Python\\Python310\\lib\\site-packages\\debugpy\\_vendored\\pydevd\\_pydevd_frame_eval\\vendored\\bytecode\\instr.py\", line 74, in _check_lineno\n",
      "    raise ValueError(\"invalid lineno\")\n",
      "ValueError: invalid lineno\n"
     ]
    },
    {
     "name": "stdout",
     "output_type": "stream",
     "text": [
      "Given array is\n",
      "12 11 13 5 6 7 \n",
      "Sorted array is: \n",
      "5 6 7 11 12 13 \n"
     ]
    }
   ],
   "source": [
    "\n",
    "\n",
    "\n",
    "def merge_sort(arr):\n",
    "    if len(arr)>1:\n",
    "\n",
    "        mid=len(arr)//2\n",
    "\n",
    "        l=arr[:mid]\n",
    "\n",
    "        r=arr[mid:]\n",
    "\n",
    "        merge_sort(l)\n",
    "\n",
    "\n",
    "        merge_sort(r)\n",
    "\n",
    "        i=j=k=0\n",
    "\n",
    "        while i<len(l) and j<len(r):\n",
    "            if l[i]<r[j]:\n",
    "                arr[k]=l[i]\n",
    "                i+=1\n",
    "\n",
    "            else:\n",
    "                arr[k]=r[j]\n",
    "                j+=1\n",
    "            k+=1    \n",
    "        while i<len(l):\n",
    "            arr[k]=l[i]\n",
    "            i+=1\n",
    "            k+=1\n",
    "        while j<len(r):\n",
    "            arr[k]=r[j]\n",
    "            j+=1\n",
    "            k+=1\n",
    "def printlist(arr):\n",
    "    for i in range(len(arr)):\n",
    "        print(arr[i],end=' ')\n",
    "    print()\n",
    "\n",
    "\n",
    "if __name__ == '__main__':\n",
    "    arr = [12, 11, 13, 5, 6, 7]\n",
    "    print(\"Given array is\", end=\"\\n\")\n",
    "    printlist(arr)\n",
    "    merge_sort(arr)\n",
    "    print(\"Sorted array is: \", end=\"\\n\")\n",
    "    printlist(arr)\n",
    " "
   ]
  },
  {
   "cell_type": "code",
   "execution_count": 32,
   "metadata": {},
   "outputs": [
    {
     "name": "stdout",
     "output_type": "stream",
     "text": [
      "['H', 'T', 'H', 'T', 'H']\n",
      "0\n",
      "2\n",
      "4\n",
      "invalid\n"
     ]
    }
   ],
   "source": [
    "for R in range(int(input(''))):\n",
    "    length=int(input(''))\n",
    "    \n",
    "    report=input()[:length]\n",
    "    report=report.split('.')\n",
    "    list1=[]\n",
    "    for i in range(len(report)):\n",
    "     \n",
    "       for j in range(len(report[i])):\n",
    "        list1.append(report[i][j])\n",
    "    print(list1)\n",
    "    if len(list1)!=0:\n",
    "           for i in range(len(list1)):\n",
    "              for j in range(i+1,len(list1)):\n",
    "                 list1[i]!=list1[j]\n",
    "              if list1[i]=='H':\n",
    "                    print(i)\n",
    "              if list1[j]=='T':\n",
    "                    print(j)\n",
    "\n",
    "           else:\n",
    "                print('invalid')\n",
    "\n",
    "    else:\n",
    "        print('valid')\n",
    "\n",
    "      \n",
    "    \n",
    "    "
   ]
  },
  {
   "cell_type": "code",
   "execution_count": null,
   "metadata": {},
   "outputs": [],
   "source": [
    " if report[n] != 'T' or '.':\n",
    "            print('invalid')\n",
    "    elif  beg!='.' or 'H':\n",
    "        print('invalid')\n",
    "    for i in range(len(report)):\n",
    "        for j in range(i+1,len(report)):\n",
    "            if report[i]=='H' and report[j]!= '.' or'T':\n",
    "                print('invalid')\n",
    "    else:\n",
    "        print('valid')"
   ]
  },
  {
   "cell_type": "code",
   "execution_count": 20,
   "metadata": {},
   "outputs": [
    {
     "name": "stdout",
     "output_type": "stream",
     "text": [
      "13\n",
      "10\n",
      "7\n"
     ]
    }
   ],
   "source": [
    "test_cases=int(input(''))\n",
    "numbers={'0':6,'1':2,'2':5,'3':5,'4':4,'5':5,'6':6,'7':3,'8':7,'9':6}\n",
    "\n",
    "while test_cases>0:\n",
    "    nums=input('')\n",
    "    nums=nums.split()\n",
    "    list1=[]\n",
    "    list_sum=0\n",
    "    sum=0\n",
    "   \n",
    "    for i in range(len(nums)):\n",
    "        list_sum+=int(nums[i])\n",
    "        n=str(list_sum)\n",
    "    for j in range(len(n)):\n",
    "        list1.append(n[j])\n",
    "        \n",
    "    for x in range(len(list1)):\n",
    "        if '0'==list1[x]:\n",
    "            sum=sum+numbers['0']\n",
    "        elif '1'==list1[x]:\n",
    "            sum+=numbers['1']\n",
    "        elif '2'==list1[x]:\n",
    "            sum+=numbers['2'] \n",
    "        elif '3'==list1[x]:\n",
    "            sum+=numbers['3']\n",
    "        elif '4'==list1[x]:\n",
    "            sum+=numbers['4']\n",
    "        elif '5'==list1[x]:\n",
    "            sum+=numbers['5'] \n",
    "        elif '6'==list1[x]:\n",
    "            sum+=numbers['6']\n",
    "        elif '7'==list1[x]:\n",
    "            sum+=numbers['7']\n",
    "        elif '8'==list1[x]:\n",
    "            sum+=numbers['8']\n",
    "        elif '9'==list1[x]:\n",
    "            sum+=numbers['9']  \n",
    "   \n",
    "    print(sum)\n",
    "    \n",
    "          \n",
    "\n",
    "    \n",
    "    test_cases-=1\n",
    "\n"
   ]
  },
  {
   "cell_type": "code",
   "execution_count": 6,
   "metadata": {},
   "outputs": [
    {
     "name": "stdout",
     "output_type": "stream",
     "text": [
      "['H', 'T']\n"
     ]
    },
    {
     "ename": "IndexError",
     "evalue": "list index out of range",
     "output_type": "error",
     "traceback": [
      "\u001b[1;31m---------------------------------------------------------------------------\u001b[0m",
      "\u001b[1;31mIndexError\u001b[0m                                Traceback (most recent call last)",
      "\u001b[1;32mc:\\Users\\HALDEN PC\\Documents\\Untitled-2.ipynb Cell 22\u001b[0m in \u001b[0;36m<cell line: 10>\u001b[1;34m()\u001b[0m\n\u001b[0;32m      <a href='vscode-notebook-cell:/c%3A/Users/HALDEN%20PC/Documents/Untitled-2.ipynb#ch0000024?line=7'>8</a>\u001b[0m \u001b[39mprint\u001b[39m(list1)\n\u001b[0;32m      <a href='vscode-notebook-cell:/c%3A/Users/HALDEN%20PC/Documents/Untitled-2.ipynb#ch0000024?line=8'>9</a>\u001b[0m end\u001b[39m=\u001b[39m\u001b[39mlen\u001b[39m(list1)\u001b[39m-\u001b[39m\u001b[39m1\u001b[39m\n\u001b[1;32m---> <a href='vscode-notebook-cell:/c%3A/Users/HALDEN%20PC/Documents/Untitled-2.ipynb#ch0000024?line=9'>10</a>\u001b[0m \u001b[39mprint\u001b[39m(list1[\u001b[39m2\u001b[39;49m])\n",
      "\u001b[1;31mIndexError\u001b[0m: list index out of range"
     ]
    }
   ],
   "source": [
    "\n",
    "repo='HT'\n",
    "repo=repo.split('.')\n",
    "list1=[]\n",
    "for i in range(len(repo)):\n",
    "     \n",
    "    for j in range(len(repo[i])):\n",
    "        list1.append(repo[i][j])\n",
    "print(list1)\n",
    "end=len(list1)-1\n",
    "print(list1[])\n"
   ]
  },
  {
   "cell_type": "code",
   "execution_count": 50,
   "metadata": {},
   "outputs": [
    {
     "name": "stdout",
     "output_type": "stream",
     "text": [
      "1\n",
      "['a', 'b']\n"
     ]
    }
   ],
   "source": [
    "\n",
    "test_cases=int(input(''))\n",
    "\n",
    "while test_cases>0:\n",
    "    string1=input('') \n",
    "    list1=[]\n",
    "    m=0\n",
    "    for i in range(len(string1)):\n",
    "       \n",
    "        \n",
    "        list1.append(string1[i])\n",
    "        list1.sort()\n",
    "    for j in range(len(string1)):\n",
    "        for k in range(j+1,len(list1)):\n",
    "               \n",
    "                    if list1[j]==list1[k]:\n",
    "                           m+=0\n",
    "    if list1.count('a')>list1.count('b'):\n",
    "                 m+=list1.count('b')\n",
    "                       \n",
    "    elif list1.count('a')==list1.count('b'):\n",
    "                   m+=1\n",
    "    else:\n",
    "        m+=list1.count('a')\n",
    "            \n",
    "                   \n",
    "    print(m)\n",
    "    print(list1)\n",
    "    test_cases-=1"
   ]
  },
  {
   "cell_type": "code",
   "execution_count": 52,
   "metadata": {},
   "outputs": [
    {
     "name": "stdout",
     "output_type": "stream",
     "text": [
      "3\n",
      "['a', 'a', 'a', 'b', 'b', 'b']\n"
     ]
    }
   ],
   "source": [
    "test_cases=int(input(''))\n",
    "\n",
    "while test_cases>0:\n",
    "    string1=input('') \n",
    "    \n",
    "    for i in range(len(string1)):\n",
    "       \n",
    "        \n",
    "        list1.append(string1[i])\n",
    "        list1.sort()\n",
    "        count_a=0\n",
    "        \n",
    "        count_a+=list1.count('a')\n",
    "        count_b=0\n",
    "        count_b+=list1.count('b')\n",
    "    if count_a>count_b:\n",
    "            print(count_b)\n",
    "    elif count_a==count_b:\n",
    "            print(count_a)\n",
    "    elif count_a<count_b:\n",
    "            print(count_a)\n",
    "    else:\n",
    "            print(0)\n",
    "    print(list1)    \n",
    "    test_cases-=1\n"
   ]
  },
  {
   "cell_type": "code",
   "execution_count": 53,
   "metadata": {},
   "outputs": [
    {
     "name": "stdout",
     "output_type": "stream",
     "text": [
      "1\n",
      "0\n",
      "2\n"
     ]
    }
   ],
   "source": [
    "for i in range(int(input(''))):\n",
    "    s=input('')\n",
    "    a_count=s.count('a')\n",
    "    b_count=s.count('b')\n",
    "\n",
    "    if a_count>b_count:\n",
    "        print(b_count)\n",
    "    elif b_count>a_count:\n",
    "        print(a_count)\n",
    "    elif a_count==b_count:\n",
    "        print(a_count)\n",
    "    elif (a_count==0 or b_count==0):\n",
    "        print(0)\n",
    "    "
   ]
  }
 ],
 "metadata": {
  "kernelspec": {
   "display_name": "Python 3.10.5 64-bit",
   "language": "python",
   "name": "python3"
  },
  "language_info": {
   "codemirror_mode": {
    "name": "ipython",
    "version": 3
   },
   "file_extension": ".py",
   "mimetype": "text/x-python",
   "name": "python",
   "nbconvert_exporter": "python",
   "pygments_lexer": "ipython3",
   "version": "3.10.5"
  },
  "orig_nbformat": 4,
  "vscode": {
   "interpreter": {
    "hash": "e2fff4cb228bbc33e370b2f7f26498861b5562347f508113b6aaf7ab3e8399c8"
   }
  }
 },
 "nbformat": 4,
 "nbformat_minor": 2
}
